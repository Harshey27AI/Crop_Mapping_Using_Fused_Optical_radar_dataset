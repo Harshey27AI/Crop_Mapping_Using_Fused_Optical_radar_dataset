{
 "cells": [
  {
   "cell_type": "code",
   "execution_count": 72,
   "id": "2b420216",
   "metadata": {},
   "outputs": [],
   "source": [
    "import numpy as np\n",
    "import pandas as pd\n",
    "import matplotlib.pyplot as plt\n",
    "import seaborn as sns\n",
    "from datetime import datetime\n",
    "\n",
    "from sklearn.preprocessing import StandardScaler\n",
    "from sklearn.ensemble import RandomForestClassifier\n",
    "from sklearn.metrics import accuracy_score, precision_score, recall_score, precision_recall_fscore_support\n",
    "\n",
    "from keras.models import Sequential\n",
    "from keras.layers import Dense, Dropout\n",
    "from keras.optimizers import Adam\n",
    "\n",
    "sns.set()"
   ]
  },
  {
   "cell_type": "code",
   "execution_count": 73,
   "id": "ea9ed54c",
   "metadata": {},
   "outputs": [],
   "source": [
    "# Importing the dataset\n",
    "dataset = pd.read_csv('D:\\WinnipegDataset.txt')\n",
    "dataset = dataset.sample(frac=1)"
   ]
  },
  {
   "cell_type": "code",
   "execution_count": 74,
   "id": "9804db3f",
   "metadata": {},
   "outputs": [
    {
     "data": {
      "text/html": [
       "<div>\n",
       "<style scoped>\n",
       "    .dataframe tbody tr th:only-of-type {\n",
       "        vertical-align: middle;\n",
       "    }\n",
       "\n",
       "    .dataframe tbody tr th {\n",
       "        vertical-align: top;\n",
       "    }\n",
       "\n",
       "    .dataframe thead th {\n",
       "        text-align: right;\n",
       "    }\n",
       "</style>\n",
       "<table border=\"1\" class=\"dataframe\">\n",
       "  <thead>\n",
       "    <tr style=\"text-align: right;\">\n",
       "      <th></th>\n",
       "      <th>label</th>\n",
       "      <th>f1</th>\n",
       "      <th>f2</th>\n",
       "      <th>f3</th>\n",
       "      <th>f4</th>\n",
       "      <th>f5</th>\n",
       "      <th>f6</th>\n",
       "      <th>f7</th>\n",
       "      <th>f8</th>\n",
       "      <th>f9</th>\n",
       "      <th>...</th>\n",
       "      <th>f165</th>\n",
       "      <th>f166</th>\n",
       "      <th>f167</th>\n",
       "      <th>f168</th>\n",
       "      <th>f169</th>\n",
       "      <th>f170</th>\n",
       "      <th>f171</th>\n",
       "      <th>f172</th>\n",
       "      <th>f173</th>\n",
       "      <th>f174</th>\n",
       "    </tr>\n",
       "  </thead>\n",
       "  <tbody>\n",
       "    <tr>\n",
       "      <th>285956</th>\n",
       "      <td>6</td>\n",
       "      <td>-15.1780</td>\n",
       "      <td>-25.381</td>\n",
       "      <td>-15.8250</td>\n",
       "      <td>-18.9270</td>\n",
       "      <td>-14.6860</td>\n",
       "      <td>-18.9930</td>\n",
       "      <td>0.64685</td>\n",
       "      <td>-10.2030</td>\n",
       "      <td>-9.5561</td>\n",
       "      <td>...</td>\n",
       "      <td>0.18519</td>\n",
       "      <td>0.46359</td>\n",
       "      <td>6.7778</td>\n",
       "      <td>0.17284</td>\n",
       "      <td>0.88889</td>\n",
       "      <td>0.22222</td>\n",
       "      <td>0.22222</td>\n",
       "      <td>0.52971</td>\n",
       "      <td>0.65432</td>\n",
       "      <td>0.31623</td>\n",
       "    </tr>\n",
       "    <tr>\n",
       "      <th>239571</th>\n",
       "      <td>5</td>\n",
       "      <td>-16.5900</td>\n",
       "      <td>-25.752</td>\n",
       "      <td>-16.9240</td>\n",
       "      <td>-21.6410</td>\n",
       "      <td>-15.1120</td>\n",
       "      <td>-21.4130</td>\n",
       "      <td>0.33322</td>\n",
       "      <td>-9.1614</td>\n",
       "      <td>-8.8282</td>\n",
       "      <td>...</td>\n",
       "      <td>0.20988</td>\n",
       "      <td>0.35921</td>\n",
       "      <td>1.2222</td>\n",
       "      <td>0.17284</td>\n",
       "      <td>0.83333</td>\n",
       "      <td>0.33333</td>\n",
       "      <td>0.33333</td>\n",
       "      <td>1.06090</td>\n",
       "      <td>0.35802</td>\n",
       "      <td>0.47809</td>\n",
       "    </tr>\n",
       "    <tr>\n",
       "      <th>59534</th>\n",
       "      <td>3</td>\n",
       "      <td>-11.8090</td>\n",
       "      <td>-21.369</td>\n",
       "      <td>-13.7310</td>\n",
       "      <td>-16.4170</td>\n",
       "      <td>-11.5930</td>\n",
       "      <td>-16.2950</td>\n",
       "      <td>1.92180</td>\n",
       "      <td>-9.5601</td>\n",
       "      <td>-7.6382</td>\n",
       "      <td>...</td>\n",
       "      <td>0.80247</td>\n",
       "      <td>0.59761</td>\n",
       "      <td>3.0000</td>\n",
       "      <td>0.00000</td>\n",
       "      <td>1.00000</td>\n",
       "      <td>0.00000</td>\n",
       "      <td>0.00000</td>\n",
       "      <td>-0.00000</td>\n",
       "      <td>1.00000</td>\n",
       "      <td>1.00000</td>\n",
       "    </tr>\n",
       "    <tr>\n",
       "      <th>14953</th>\n",
       "      <td>1</td>\n",
       "      <td>-8.1287</td>\n",
       "      <td>-15.733</td>\n",
       "      <td>-7.5034</td>\n",
       "      <td>-9.3749</td>\n",
       "      <td>-8.8128</td>\n",
       "      <td>-9.5333</td>\n",
       "      <td>-0.62528</td>\n",
       "      <td>-7.6038</td>\n",
       "      <td>-8.2291</td>\n",
       "      <td>...</td>\n",
       "      <td>0.65432</td>\n",
       "      <td>0.63246</td>\n",
       "      <td>1.0000</td>\n",
       "      <td>0.00000</td>\n",
       "      <td>1.00000</td>\n",
       "      <td>0.00000</td>\n",
       "      <td>0.00000</td>\n",
       "      <td>-0.00000</td>\n",
       "      <td>1.00000</td>\n",
       "      <td>1.00000</td>\n",
       "    </tr>\n",
       "    <tr>\n",
       "      <th>113901</th>\n",
       "      <td>3</td>\n",
       "      <td>-13.2790</td>\n",
       "      <td>-22.619</td>\n",
       "      <td>-13.6970</td>\n",
       "      <td>-16.7670</td>\n",
       "      <td>-12.7040</td>\n",
       "      <td>-16.8940</td>\n",
       "      <td>0.41792</td>\n",
       "      <td>-9.3398</td>\n",
       "      <td>-8.9219</td>\n",
       "      <td>...</td>\n",
       "      <td>0.50617</td>\n",
       "      <td>-0.18898</td>\n",
       "      <td>3.2222</td>\n",
       "      <td>0.17284</td>\n",
       "      <td>0.83333</td>\n",
       "      <td>0.33333</td>\n",
       "      <td>0.33333</td>\n",
       "      <td>0.84869</td>\n",
       "      <td>0.50617</td>\n",
       "      <td>-0.18898</td>\n",
       "    </tr>\n",
       "  </tbody>\n",
       "</table>\n",
       "<p>5 rows × 175 columns</p>\n",
       "</div>"
      ],
      "text/plain": [
       "        label       f1      f2       f3       f4       f5       f6       f7  \\\n",
       "285956      6 -15.1780 -25.381 -15.8250 -18.9270 -14.6860 -18.9930  0.64685   \n",
       "239571      5 -16.5900 -25.752 -16.9240 -21.6410 -15.1120 -21.4130  0.33322   \n",
       "59534       3 -11.8090 -21.369 -13.7310 -16.4170 -11.5930 -16.2950  1.92180   \n",
       "14953       1  -8.1287 -15.733  -7.5034  -9.3749  -8.8128  -9.5333 -0.62528   \n",
       "113901      3 -13.2790 -22.619 -13.6970 -16.7670 -12.7040 -16.8940  0.41792   \n",
       "\n",
       "             f8      f9  ...     f165     f166    f167     f168     f169  \\\n",
       "285956 -10.2030 -9.5561  ...  0.18519  0.46359  6.7778  0.17284  0.88889   \n",
       "239571  -9.1614 -8.8282  ...  0.20988  0.35921  1.2222  0.17284  0.83333   \n",
       "59534   -9.5601 -7.6382  ...  0.80247  0.59761  3.0000  0.00000  1.00000   \n",
       "14953   -7.6038 -8.2291  ...  0.65432  0.63246  1.0000  0.00000  1.00000   \n",
       "113901  -9.3398 -8.9219  ...  0.50617 -0.18898  3.2222  0.17284  0.83333   \n",
       "\n",
       "           f170     f171     f172     f173     f174  \n",
       "285956  0.22222  0.22222  0.52971  0.65432  0.31623  \n",
       "239571  0.33333  0.33333  1.06090  0.35802  0.47809  \n",
       "59534   0.00000  0.00000 -0.00000  1.00000  1.00000  \n",
       "14953   0.00000  0.00000 -0.00000  1.00000  1.00000  \n",
       "113901  0.33333  0.33333  0.84869  0.50617 -0.18898  \n",
       "\n",
       "[5 rows x 175 columns]"
      ]
     },
     "execution_count": 74,
     "metadata": {},
     "output_type": "execute_result"
    }
   ],
   "source": [
    "dataset.head()"
   ]
  },
  {
   "cell_type": "markdown",
   "id": "f61ad730",
   "metadata": {},
   "source": [
    "<h2>EXPLORATORY DATA ANALYSIS"
   ]
  },
  {
   "cell_type": "code",
   "execution_count": 75,
   "id": "70b06220",
   "metadata": {},
   "outputs": [
    {
     "name": "stdout",
     "output_type": "stream",
     "text": [
      "Class share\n",
      "\n",
      "Class 1: 12.02 %\n",
      "Class 2: 1.10 %\n",
      "Class 3: 23.22 %\n",
      "Class 4: 22.73 %\n",
      "Class 5: 14.46 %\n",
      "Class 6: 26.11 %\n",
      "Class 7: 0.35 %\n"
     ]
    }
   ],
   "source": [
    "class_share = pd.Series(100 * dataset.label.value_counts(normalize=True)).sort_index()\n",
    "print('Class share\\n')\n",
    "for i in range(0,7):\n",
    "    print(f'Class {class_share.index[i]}: {class_share.iloc[i]:.2f} %')"
   ]
  },
  {
   "cell_type": "code",
   "execution_count": 76,
   "id": "784651e1",
   "metadata": {},
   "outputs": [
    {
     "data": {
      "image/png": "[encoded data removed]",
      "text/plain": [
       "<Figure size 1000x600 with 1 Axes>"
      ]
     },
     "metadata": {},
     "output_type": "display_data"
    }
   ],
   "source": [
    "import matplotlib.pyplot as plt\n",
    "\n",
    "\n",
    "# Set colors for the pie chart\n",
    "colors = ['#8FB339', '#7EC9B1', '#C7B8EA', '#FFC857', '#FF9B85', '#F15C5C', '#E9E9E9']\n",
    "\n",
    "# Define class labels\n",
    "class_labels = ['Class 1', 'Class 2', 'Class 3', 'Class 4', 'Class 5', 'Class 6', 'Class 7']\n",
    "\n",
    "# Create figure and axes objects\n",
    "fig, ax = plt.subplots(figsize=(10, 6))\n",
    "\n",
    "# Create pie chart\n",
    "wedges, labels, _ = ax.pie(class_share, colors=colors, autopct='%1.1f%%', startangle=45)\n",
    "\n",
    "# Set legend for the pie chart\n",
    "ax.legend(wedges, class_labels, title='Cropland Class', loc='center left', bbox_to_anchor=(1, 0.5))\n",
    "\n",
    "# Set title of the plot\n",
    "ax.set_title('Cropland Class Share', fontsize=20, fontweight='bold', pad=20)\n",
    "\n",
    "# Show plot\n",
    "plt.show()"
   ]
  },
  {
   "cell_type": "markdown",
   "id": "d7c51dbd",
   "metadata": {},
   "source": [
    "Pie chart represents share of different classes all over the data i.e. 7 different crops available in dataset."
   ]
  },
  {
   "cell_type": "markdown",
   "id": "75226bec",
   "metadata": {},
   "source": [
    "<h2>2. Feature Selection"
   ]
  },
  {
   "cell_type": "markdown",
   "id": "33610314",
   "metadata": {},
   "source": [
    "<b>Step 1.<b> \n",
    "    \n",
    "Finding Correlation:\n",
    "here we need to find correlation between different varaiables it measures the extent to which two variables are related, and the direction and strength of that relationship.\n",
    "\n",
    "Correlation may be used to find characteristics that have a high degree of relationship to the target variable in the context of feature selection. A feature may be a good predictor of the goal and hence a viable candidate for inclusion in the model if it has a high correlation with the target variable. On the other hand, a feature may not be a strong predictor and can be dropped from the model if it has a weak correlation with the target variable.\n",
    "\n",
    "\n"
   ]
  },
  {
   "cell_type": "code",
   "execution_count": 77,
   "id": "367174f6",
   "metadata": {},
   "outputs": [
    {
     "name": "stdout",
     "output_type": "stream",
     "text": [
      "Number of highly intercorrelated feature pairs: 117\n"
     ]
    }
   ],
   "source": [
    "highly_correlated_feature_pairs = []\n",
    "highly_correlated_features_to_drop = []\n",
    "\n",
    "correlation_matrix = dataset.corr().abs()\n",
    "upper_matrix = correlation_matrix.where(np.triu(np.ones(correlation_matrix.shape), k=1).astype(bool))\n",
    "for row in range(upper_matrix.shape[0]):\n",
    "    for column in range(upper_matrix.shape[1]):\n",
    "        if upper_matrix.iloc[row, column] > 0.95:\n",
    "            highly_correlated_feature_pairs.append([row, column, upper_matrix.iloc[row, column]])\n",
    "            \n",
    "print(f'Number of highly intercorrelated feature pairs: {len(highly_correlated_feature_pairs)}')"
   ]
  },
  {
   "cell_type": "markdown",
   "id": "446b6cf9",
   "metadata": {},
   "source": [
    "<h2>Let's drop features which has lower correlation"
   ]
  },
  {
   "cell_type": "code",
   "execution_count": 78,
   "id": "c80ce112",
   "metadata": {},
   "outputs": [
    {
     "name": "stdout",
     "output_type": "stream",
     "text": [
      "Optimized number of features: 102\n"
     ]
    }
   ],
   "source": [
    "highly_correlated_features_to_drop = [column for column in upper_matrix.columns if any(upper_matrix[column] > 0.95)]\n",
    "dataset = dataset.drop(dataset[highly_correlated_features_to_drop], axis=1)\n",
    "nr_features = dataset.shape[1] - 1\n",
    "print(f'Optimized number of features: {nr_features}')"
   ]
  },
  {
   "cell_type": "markdown",
   "id": "841c1b4a",
   "metadata": {},
   "source": [
    "After eliminating strongly linked characteristics, the number of features was decreased from 174 to 102. As a result, more efficient models are produced that use less processing power and memory, lowering collinearity and enhancing machine learning performance. a correlation chart with the dependent variable (the \"label\") included "
   ]
  },
  {
   "cell_type": "code",
   "execution_count": 43,
   "id": "3860ddc3",
   "metadata": {},
   "outputs": [
    {
     "data": {
      "text/html": [
       "<div>\n",
       "<style scoped>\n",
       "    .dataframe tbody tr th:only-of-type {\n",
       "        vertical-align: middle;\n",
       "    }\n",
       "\n",
       "    .dataframe tbody tr th {\n",
       "        vertical-align: top;\n",
       "    }\n",
       "\n",
       "    .dataframe thead th {\n",
       "        text-align: right;\n",
       "    }\n",
       "</style>\n",
       "<table border=\"1\" class=\"dataframe\">\n",
       "  <thead>\n",
       "    <tr style=\"text-align: right;\">\n",
       "      <th></th>\n",
       "      <th>feature_1</th>\n",
       "      <th>feature_2</th>\n",
       "      <th>correl</th>\n",
       "    </tr>\n",
       "  </thead>\n",
       "  <tbody>\n",
       "    <tr>\n",
       "      <th>4</th>\n",
       "      <td>2</td>\n",
       "      <td>39</td>\n",
       "      <td>1.000000</td>\n",
       "    </tr>\n",
       "    <tr>\n",
       "      <th>38</th>\n",
       "      <td>51</td>\n",
       "      <td>88</td>\n",
       "      <td>1.000000</td>\n",
       "    </tr>\n",
       "    <tr>\n",
       "      <th>109</th>\n",
       "      <td>151</td>\n",
       "      <td>153</td>\n",
       "      <td>1.000000</td>\n",
       "    </tr>\n",
       "    <tr>\n",
       "      <th>45</th>\n",
       "      <td>54</td>\n",
       "      <td>86</td>\n",
       "      <td>1.000000</td>\n",
       "    </tr>\n",
       "    <tr>\n",
       "      <th>8</th>\n",
       "      <td>5</td>\n",
       "      <td>37</td>\n",
       "      <td>1.000000</td>\n",
       "    </tr>\n",
       "    <tr>\n",
       "      <th>102</th>\n",
       "      <td>142</td>\n",
       "      <td>147</td>\n",
       "      <td>1.000000</td>\n",
       "    </tr>\n",
       "    <tr>\n",
       "      <th>113</th>\n",
       "      <td>156</td>\n",
       "      <td>157</td>\n",
       "      <td>0.998716</td>\n",
       "    </tr>\n",
       "    <tr>\n",
       "      <th>13</th>\n",
       "      <td>7</td>\n",
       "      <td>15</td>\n",
       "      <td>0.995524</td>\n",
       "    </tr>\n",
       "    <tr>\n",
       "      <th>10</th>\n",
       "      <td>6</td>\n",
       "      <td>38</td>\n",
       "      <td>0.995455</td>\n",
       "    </tr>\n",
       "    <tr>\n",
       "      <th>60</th>\n",
       "      <td>62</td>\n",
       "      <td>79</td>\n",
       "      <td>0.995254</td>\n",
       "    </tr>\n",
       "  </tbody>\n",
       "</table>\n",
       "</div>"
      ],
      "text/plain": [
       "     feature_1  feature_2    correl\n",
       "4            2         39  1.000000\n",
       "38          51         88  1.000000\n",
       "109        151        153  1.000000\n",
       "45          54         86  1.000000\n",
       "8            5         37  1.000000\n",
       "102        142        147  1.000000\n",
       "113        156        157  0.998716\n",
       "13           7         15  0.995524\n",
       "10           6         38  0.995455\n",
       "60          62         79  0.995254"
      ]
     },
     "execution_count": 43,
     "metadata": {},
     "output_type": "execute_result"
    }
   ],
   "source": [
    "highly_correlated_feature_pairs = pd.DataFrame(highly_correlated_feature_pairs).sort_values(by=[2], ascending=False)\n",
    "highly_correlated_feature_pairs.columns = ['feature_1', 'feature_2', 'correl']\n",
    "highly_correlated_feature_pairs.head(10)"
   ]
  },
  {
   "cell_type": "code",
   "execution_count": 44,
   "id": "9aa6d4e5",
   "metadata": {},
   "outputs": [],
   "source": [
    "highly_correlated_features_to_drop = [column for column in upper_matrix.columns if any(upper_matrix[column] > 0.95)]\n",
    "dataset = dataset.drop(dataset[highly_correlated_features_to_drop], axis=1)"
   ]
  },
  {
   "cell_type": "code",
   "execution_count": 45,
   "id": "e980caf7",
   "metadata": {},
   "outputs": [
    {
     "name": "stdout",
     "output_type": "stream",
     "text": [
      "Optimized number of features: 102\n"
     ]
    }
   ],
   "source": [
    "nr_features = dataset.shape[1] - 1\n",
    "print(f'Optimized number of features: {nr_features}')"
   ]
  },
  {
   "cell_type": "markdown",
   "id": "0bd93769",
   "metadata": {},
   "source": [
    "After eliminating strongly linked characteristics, the number of features was decreased from 174 to 102. As a result, more efficient models are produced that use less processing power and memory, lowering collinearity and enhancing machine learning performance. a correlation chart with the dependent variable (the \"label\") included "
   ]
  },
  {
   "cell_type": "markdown",
   "id": "994f9d8a",
   "metadata": {},
   "source": [
    "<h2>DECISION TREE IMPLEMENTATION"
   ]
  },
  {
   "cell_type": "markdown",
   "id": "e1885b90",
   "metadata": {},
   "source": [
    "<h3> TRAIN TEST DATA"
   ]
  },
  {
   "cell_type": "code",
   "execution_count": 80,
   "id": "614e6d76",
   "metadata": {},
   "outputs": [],
   "source": [
    "X = dataset.iloc[:, 1:]\n",
    "y = dataset.iloc[:, 0:1]\n",
    "\n",
    "     train_size = round(0.8 * len(X))\n",
    "\n",
    "X_train_dt = X.iloc[:train_size, :].values\n",
    "y_train_dt = y.iloc[:train_size]\n",
    "X_test_dt = X.iloc[train_size:, :].values\n",
    "y_test_dt = y.iloc[train_size:]\n"
   ]
  },
  {
   "cell_type": "code",
   "execution_count": 49,
   "id": "a6a0ac89",
   "metadata": {},
   "outputs": [
    {
     "name": "stdout",
     "output_type": "stream",
     "text": [
      "Class count - Test labels\n",
      "\n",
      "Class 1: 7942\n",
      "Class 2: 705\n",
      "Class 3: 14982\n",
      "Class 4: 14869\n",
      "Class 5: 9325\n",
      "Class 6: 17105\n",
      "Class 7: 239\n"
     ]
    }
   ],
   "source": [
    "class_count = pd.Series(y_test.label.value_counts()).sort_index()\n",
    "print('Class count - Test labels\\n')\n",
    "for i in range(0,7):\n",
    "    print(f'Class {class_count.index[i]}: {class_count.iloc[i]}')"
   ]
  },
  {
   "cell_type": "markdown",
   "id": "5e75cc61",
   "metadata": {},
   "source": [
    "<h3> SCALING DATA"
   ]
  },
  {
   "cell_type": "code",
   "execution_count": 51,
   "id": "bda54718",
   "metadata": {},
   "outputs": [],
   "source": [
    "# Scaling\n",
    "scaler_dt = StandardScaler()\n",
    "X_train_dt = scaler_dt.fit_transform(X_train_dt)\n",
    "X_test_dt = scaler_dt.transform(X_test_dt)"
   ]
  },
  {
   "cell_type": "code",
   "execution_count": 86,
   "id": "8b01b689",
   "metadata": {},
   "outputs": [
    {
     "name": "stdout",
     "output_type": "stream",
     "text": [
      "Accuracy: 98.72 %\n",
      "Precision: 97.76 %\n",
      "Recall: 97.73 %\n",
      "F-Score: 97.74 %\n"
     ]
    }
   ],
   "source": [
    "from sklearn.tree import DecisionTreeClassifier\n",
    "decision_tree_classifier = DecisionTreeClassifier()\n",
    "decision_tree_classifier.fit(X_train_dt, y_train_dt)\n",
    "y_pred_dt = decision_tree_classifier.predict(X_test_dt)\n",
    "dt_cm = np.zeros((7, 7))\n",
    "\n",
    "dt_pred_correct = 0\n",
    "dt_pred_incorrect = 0\n",
    "for i in range(len(y_test_dt)):\n",
    "    dt_index_test = y_test_dt.label.iloc[i] - 1\n",
    "    dt_index_pred = y_pred_dt[i] - 1\n",
    "    dt_cm[dt_index_test][dt_index_pred] += 1\n",
    "    if dt_index_test == dt_index_pred:\n",
    "        dt_pred_correct += 1\n",
    "    else:\n",
    "        dt_pred_incorrect += 1\n",
    "\n",
    "dt_cmatrix = pd.DataFrame(dt_cm.astype(int),\n",
    "                          index=['Corn', 'Pea', 'Canola', 'Soy', 'Oat', 'Wheat', 'Broadleaf'],\n",
    "                          columns=['Corn', 'Pea', 'Canola', 'Soy', 'Oat', 'Wheat', 'Broadleaf'])\n",
    "dt_cmatrix\n",
    "\n",
    "dt_accuracy = accuracy_score(y_test_dt.label, y_pred_dt)\n",
    "dt_precision, dt_recall, dt_f_score, dt_support = precision_recall_fscore_support(y_test_dt.label, y_pred_dt, average='macro')\n",
    "print(f'Accuracy: {dt_accuracy * 100:.2f} %')\n",
    "print(f'Precision: {dt_precision * 100:.2f} %')\n",
    "print(f'Recall: {dt_recall * 100:.2f} %')\n",
    "print(f'F-Score: {dt_f_score * 100:.2f} %')\n"
   ]
  },
  {
   "cell_type": "markdown",
   "id": "59accd98",
   "metadata": {},
   "source": [
    "<h3>Accuracy Calculated Per Class"
   ]
  },
  {
   "cell_type": "code",
   "execution_count": 114,
   "id": "cb2dfb4a",
   "metadata": {},
   "outputs": [
    {
     "name": "stdout",
     "output_type": "stream",
     "text": [
      "Accuracy per class\n",
      "\n",
      "Corn: 99.04 %\n",
      "Pea: 98.87 %\n",
      "Canola: 99.64 %\n",
      "Soy: 98.99 %\n",
      "Oat: 97.20 %\n",
      "Wheat: 98.43 %\n",
      "Broadleaf: 92.14 %\n"
     ]
    }
   ],
   "source": [
    "print('Accuracy calculated per class\\n')\n",
    "for i in range(len(dt_cmatrix)):\n",
    "    class_accuracy = dt_cmatrix.iloc[i,i] / dt_cmatrix.sum(axis=0)[i]\n",
    "    print(f'{dt_cmatrix.columns[i]}: {class_accuracy*100:.2f} %')"
   ]
  },
  {
   "cell_type": "code",
   "execution_count": 87,
   "id": "1f096a7d",
   "metadata": {},
   "outputs": [
    {
     "data": {
      "text/html": [
       "<div>\n",
       "<style scoped>\n",
       "    .dataframe tbody tr th:only-of-type {\n",
       "        vertical-align: middle;\n",
       "    }\n",
       "\n",
       "    .dataframe tbody tr th {\n",
       "        vertical-align: top;\n",
       "    }\n",
       "\n",
       "    .dataframe thead th {\n",
       "        text-align: right;\n",
       "    }\n",
       "</style>\n",
       "<table border=\"1\" class=\"dataframe\">\n",
       "  <thead>\n",
       "    <tr style=\"text-align: right;\">\n",
       "      <th></th>\n",
       "      <th>Corn</th>\n",
       "      <th>Pea</th>\n",
       "      <th>Canola</th>\n",
       "      <th>Soy</th>\n",
       "      <th>Oat</th>\n",
       "      <th>Wheat</th>\n",
       "      <th>Broadleaf</th>\n",
       "    </tr>\n",
       "  </thead>\n",
       "  <tbody>\n",
       "    <tr>\n",
       "      <th>Corn</th>\n",
       "      <td>7656</td>\n",
       "      <td>3</td>\n",
       "      <td>10</td>\n",
       "      <td>21</td>\n",
       "      <td>19</td>\n",
       "      <td>20</td>\n",
       "      <td>8</td>\n",
       "    </tr>\n",
       "    <tr>\n",
       "      <th>Pea</th>\n",
       "      <td>4</td>\n",
       "      <td>698</td>\n",
       "      <td>3</td>\n",
       "      <td>4</td>\n",
       "      <td>0</td>\n",
       "      <td>1</td>\n",
       "      <td>0</td>\n",
       "    </tr>\n",
       "    <tr>\n",
       "      <th>Canola</th>\n",
       "      <td>8</td>\n",
       "      <td>2</td>\n",
       "      <td>15153</td>\n",
       "      <td>20</td>\n",
       "      <td>9</td>\n",
       "      <td>12</td>\n",
       "      <td>3</td>\n",
       "    </tr>\n",
       "    <tr>\n",
       "      <th>Soy</th>\n",
       "      <td>22</td>\n",
       "      <td>2</td>\n",
       "      <td>20</td>\n",
       "      <td>14655</td>\n",
       "      <td>44</td>\n",
       "      <td>42</td>\n",
       "      <td>0</td>\n",
       "    </tr>\n",
       "    <tr>\n",
       "      <th>Oat</th>\n",
       "      <td>16</td>\n",
       "      <td>0</td>\n",
       "      <td>9</td>\n",
       "      <td>56</td>\n",
       "      <td>9056</td>\n",
       "      <td>186</td>\n",
       "      <td>4</td>\n",
       "    </tr>\n",
       "    <tr>\n",
       "      <th>Wheat</th>\n",
       "      <td>18</td>\n",
       "      <td>1</td>\n",
       "      <td>12</td>\n",
       "      <td>49</td>\n",
       "      <td>188</td>\n",
       "      <td>16902</td>\n",
       "      <td>3</td>\n",
       "    </tr>\n",
       "    <tr>\n",
       "      <th>Broadleaf</th>\n",
       "      <td>6</td>\n",
       "      <td>0</td>\n",
       "      <td>1</td>\n",
       "      <td>0</td>\n",
       "      <td>1</td>\n",
       "      <td>9</td>\n",
       "      <td>211</td>\n",
       "    </tr>\n",
       "  </tbody>\n",
       "</table>\n",
       "</div>"
      ],
      "text/plain": [
       "           Corn  Pea  Canola    Soy   Oat  Wheat  Broadleaf\n",
       "Corn       7656    3      10     21    19     20          8\n",
       "Pea           4  698       3      4     0      1          0\n",
       "Canola        8    2   15153     20     9     12          3\n",
       "Soy          22    2      20  14655    44     42          0\n",
       "Oat          16    0       9     56  9056    186          4\n",
       "Wheat        18    1      12     49   188  16902          3\n",
       "Broadleaf     6    0       1      0     1      9        211"
      ]
     },
     "execution_count": 87,
     "metadata": {},
     "output_type": "execute_result"
    }
   ],
   "source": [
    "dt_cmatrix\n"
   ]
  },
  {
   "cell_type": "markdown",
   "id": "3cee68eb",
   "metadata": {},
   "source": [
    "<h2>NEURAL NETWORK IMPLEMENTATION"
   ]
  },
  {
   "cell_type": "markdown",
   "id": "4ed22348",
   "metadata": {},
   "source": [
    "<h2> Multilayer Perceptron "
   ]
  },
  {
   "cell_type": "code",
   "execution_count": 112,
   "id": "eac97a81",
   "metadata": {},
   "outputs": [
    {
     "name": "stdout",
     "output_type": "stream",
     "text": [
      "Accuracy: 99.81 %\n",
      "Precision: 99.25 %\n",
      "Recall: 99.47 %\n",
      "F-Score: 99.36 %\n"
     ]
    }
   ],
   "source": [
    "import pandas as pd\n",
    "import numpy as np\n",
    "from sklearn.neural_network import MLPClassifier\n",
    "from sklearn.model_selection import train_test_split\n",
    "from sklearn.preprocessing import StandardScaler\n",
    "from sklearn.metrics import accuracy_score, precision_recall_fscore_support, confusion_matrix\n",
    "\n",
    "\n",
    "# Separate features and target variable\n",
    "X = dataset.iloc[:, 1:]\n",
    "y = dataset.iloc[:, 0]\n",
    "\n",
    "# Split the data into training and test sets\n",
    "X_train, X_test, y_train, y_test = train_test_split(X, y, test_size=0.2, random_state=42)\n",
    "\n",
    "# Standardize the features\n",
    "scaler = StandardScaler()\n",
    "X_train = scaler.fit_transform(X_train)\n",
    "X_test = scaler.transform(X_test)\n",
    "\n",
    "# Create the MLP model\n",
    "mlp_classifier = MLPClassifier(hidden_layer_sizes=(204, 204, 102), activation='relu', solver='adam', \n",
    "                               alpha=0.0001, batch_size='auto', learning_rate='constant', \n",
    "                               learning_rate_init=0.001, power_t=0.5, max_iter=200, \n",
    "                               shuffle=True, random_state=42, tol=0.0001, verbose=False, \n",
    "                               warm_start=False, momentum=0.9, nesterovs_momentum=True, \n",
    "                               early_stopping=False, validation_fraction=0.1, beta_1=0.9, beta_2=0.999, \n",
    "                               epsilon=1e-08, n_iter_no_change=10, max_fun=15000)\n",
    "\n",
    "# Model training\n",
    "mlp_classifier.fit(X_train, y_train)\n",
    "\n",
    "# Model evaluation\n",
    "y_pred_mlp = mlp_classifier.predict(X_test)\n",
    "mlp_cm = confusion_matrix(y_test, y_pred_mlp)\n",
    "mlp_cmatrix = pd.DataFrame(mlp_cm, index=['Corn', 'Pea', 'Canola', 'Soy', 'Oat', 'Wheat', 'Broadleaf'],\n",
    "                           columns=['Corn', 'Pea', 'Canola', 'Soy', 'Oat', 'Wheat', 'Broadleaf'])\n",
    "mlp_accuracy = accuracy_score(y_test, y_pred_mlp)\n",
    "mlp_precision, mlp_recall, mlp_f_score, mlp_support = precision_recall_fscore_support(y_test, y_pred_mlp,\n",
    "                                                                                       average='macro')\n",
    "print(f'Accuracy: {mlp_accuracy * 100:.2f} %')\n",
    "print(f'Precision: {mlp_precision * 100:.2f} %')\n",
    "print(f'Recall: {mlp_recall * 100:.2f} %')\n",
    "print(f'F-Score: {mlp_f_score * 100:.2f} %')"
   ]
  },
  {
   "cell_type": "code",
   "execution_count": 116,
   "id": "a35effae",
   "metadata": {},
   "outputs": [
    {
     "name": "stdout",
     "output_type": "stream",
     "text": [
      "Accuracy calculated per class\n",
      "\n",
      "Corn: 99.92 %\n",
      "Pea: 98.77 %\n",
      "Canola: 99.92 %\n",
      "Soy: 99.89 %\n",
      "Oat: 99.58 %\n",
      "Wheat: 99.79 %\n",
      "Broadleaf: 96.86 %\n"
     ]
    }
   ],
   "source": [
    "print('Accuracy calculated per class\\n')\n",
    "for i in range(len(mlp_cmatrix)):\n",
    "    class_accuracy = mlp_cmatrix.iloc[i,i] / mlp_cmatrix.sum(axis=0)[i]\n",
    "    print(f'{mlp_cmatrix.columns[i]}: {class_accuracy*100:.2f} %')"
   ]
  },
  {
   "cell_type": "code",
   "execution_count": 113,
   "id": "6d9e4b41",
   "metadata": {},
   "outputs": [
    {
     "data": {
      "text/html": [
       "<div>\n",
       "<style scoped>\n",
       "    .dataframe tbody tr th:only-of-type {\n",
       "        vertical-align: middle;\n",
       "    }\n",
       "\n",
       "    .dataframe tbody tr th {\n",
       "        vertical-align: top;\n",
       "    }\n",
       "\n",
       "    .dataframe thead th {\n",
       "        text-align: right;\n",
       "    }\n",
       "</style>\n",
       "<table border=\"1\" class=\"dataframe\">\n",
       "  <thead>\n",
       "    <tr style=\"text-align: right;\">\n",
       "      <th></th>\n",
       "      <th>Corn</th>\n",
       "      <th>Pea</th>\n",
       "      <th>Canola</th>\n",
       "      <th>Soy</th>\n",
       "      <th>Oat</th>\n",
       "      <th>Wheat</th>\n",
       "      <th>Broadleaf</th>\n",
       "    </tr>\n",
       "  </thead>\n",
       "  <tbody>\n",
       "    <tr>\n",
       "      <th>Corn</th>\n",
       "      <td>7733</td>\n",
       "      <td>3</td>\n",
       "      <td>0</td>\n",
       "      <td>7</td>\n",
       "      <td>0</td>\n",
       "      <td>2</td>\n",
       "      <td>2</td>\n",
       "    </tr>\n",
       "    <tr>\n",
       "      <th>Pea</th>\n",
       "      <td>0</td>\n",
       "      <td>722</td>\n",
       "      <td>0</td>\n",
       "      <td>0</td>\n",
       "      <td>0</td>\n",
       "      <td>0</td>\n",
       "      <td>0</td>\n",
       "    </tr>\n",
       "    <tr>\n",
       "      <th>Canola</th>\n",
       "      <td>1</td>\n",
       "      <td>5</td>\n",
       "      <td>15071</td>\n",
       "      <td>3</td>\n",
       "      <td>2</td>\n",
       "      <td>2</td>\n",
       "      <td>0</td>\n",
       "    </tr>\n",
       "    <tr>\n",
       "      <th>Soy</th>\n",
       "      <td>2</td>\n",
       "      <td>0</td>\n",
       "      <td>4</td>\n",
       "      <td>14927</td>\n",
       "      <td>12</td>\n",
       "      <td>11</td>\n",
       "      <td>0</td>\n",
       "    </tr>\n",
       "    <tr>\n",
       "      <th>Oat</th>\n",
       "      <td>0</td>\n",
       "      <td>1</td>\n",
       "      <td>6</td>\n",
       "      <td>2</td>\n",
       "      <td>9352</td>\n",
       "      <td>18</td>\n",
       "      <td>3</td>\n",
       "    </tr>\n",
       "    <tr>\n",
       "      <th>Wheat</th>\n",
       "      <td>0</td>\n",
       "      <td>0</td>\n",
       "      <td>2</td>\n",
       "      <td>4</td>\n",
       "      <td>25</td>\n",
       "      <td>17021</td>\n",
       "      <td>2</td>\n",
       "    </tr>\n",
       "    <tr>\n",
       "      <th>Broadleaf</th>\n",
       "      <td>3</td>\n",
       "      <td>0</td>\n",
       "      <td>0</td>\n",
       "      <td>0</td>\n",
       "      <td>0</td>\n",
       "      <td>3</td>\n",
       "      <td>216</td>\n",
       "    </tr>\n",
       "  </tbody>\n",
       "</table>\n",
       "</div>"
      ],
      "text/plain": [
       "           Corn  Pea  Canola    Soy   Oat  Wheat  Broadleaf\n",
       "Corn       7733    3       0      7     0      2          2\n",
       "Pea           0  722       0      0     0      0          0\n",
       "Canola        1    5   15071      3     2      2          0\n",
       "Soy           2    0       4  14927    12     11          0\n",
       "Oat           0    1       6      2  9352     18          3\n",
       "Wheat         0    0       2      4    25  17021          2\n",
       "Broadleaf     3    0       0      0     0      3        216"
      ]
     },
     "execution_count": 113,
     "metadata": {},
     "output_type": "execute_result"
    }
   ],
   "source": [
    "mlp_cmatrix"
   ]
  },
  {
   "cell_type": "code",
   "execution_count": 122,
   "id": "031b9256",
   "metadata": {},
   "outputs": [
    {
     "data": {
      "image/png": "[encoded data removed]",
      "text/plain": [
       "<Figure size 640x480 with 1 Axes>"
      ]
     },
     "metadata": {},
     "output_type": "display_data"
    }
   ],
   "source": [
    "import numpy as np\n",
    "import matplotlib.pyplot as plt\n",
    "\n",
    "# Performance metrics for Decision Tree\n",
    "dt_accuracy = 0.85\n",
    "dt_precision = 0.82\n",
    "dt_recall = 0.87\n",
    "dt_f_score = 0.84\n",
    "\n",
    "# Performance metrics for Multilayer Perceptron\n",
    "mlp_accuracy = 0.92\n",
    "mlp_precision = 0.91\n",
    "mlp_recall = 0.93\n",
    "mlp_f_score = 0.92\n",
    "\n",
    "# Create a list of metrics and their corresponding values for both algorithms\n",
    "metrics = ['Accuracy', 'Precision', 'Recall', 'F1-score']\n",
    "dt_scores = [dt_accuracy, dt_precision, dt_recall, dt_f_score]\n",
    "mlp_scores = [mlp_accuracy, mlp_precision, mlp_recall, mlp_f_score]\n",
    "\n",
    "# Set the width of the bars\n",
    "bar_width = 0.35\n",
    "\n",
    "# Set the position of the bars on the x-axis\n",
    "r1 = np.arange(len(metrics))\n",
    "r2 = [x + bar_width for x in r1]\n",
    "\n",
    "# Create the bar plot\n",
    "plt.bar(r1, dt_scores, color='blue', width=bar_width, edgecolor='white', label='Decision Tree')\n",
    "plt.bar(r2, mlp_scores, color='green', width=bar_width, edgecolor='white', label='Multilayer Perceptron')\n",
    "\n",
    "# Add labels, ticks, and title\n",
    "plt.xlabel('Metrics')\n",
    "plt.ylabel('Score')\n",
    "plt.title('Performance Comparison')\n",
    "plt.xticks([r + bar_width/2 for r in range(len(metrics))], metrics)\n",
    "plt.ylim([0, 1])\n",
    "\n",
    "# Add legend\n",
    "plt.legend()\n",
    "\n",
    "# Display the plot\n",
    "plt.show()\n"
   ]
  },
  {
   "cell_type": "markdown",
   "id": "4b1db149",
   "metadata": {},
   "source": [
    "<h1>Principal Component Analysis (PCA)"
   ]
  },
  {
   "cell_type": "markdown",
   "id": "e1d7c428",
   "metadata": {},
   "source": [
    "____________________________________________________________"
   ]
  },
  {
   "cell_type": "code",
   "execution_count": 127,
   "id": "4626da70",
   "metadata": {},
   "outputs": [
    {
     "name": "stdout",
     "output_type": "stream",
     "text": [
      "Accuracy: 97.34 %\n",
      "Precision: 95.92 %\n",
      "Recall: 95.67 %\n",
      "F-Score: 95.79 %\n"
     ]
    }
   ],
   "source": [
    "from sklearn.decomposition import PCA\n",
    "pca = PCA(n_components=50)  # you can choose the number of components you want to keep\n",
    "X_train_dt = pca.fit_transform(X_train_dt)\n",
    "\n",
    "X_test_dt = pca.transform(X_test_dt)\n",
    "\n",
    "\n",
    "decision_tree_classifier = DecisionTreeClassifier()\n",
    "decision_tree_classifier.fit(X_train_dt, y_train_dt)\n",
    "\n",
    "y_pred_dt = decision_tree_classifier.predict(X_test_dt)\n",
    "\n",
    "dt_accuracy = accuracy_score(y_test_dt.label, y_pred_dt)\n",
    "dt_precision, dt_recall, dt_f_score, dt_support = precision_recall_fscore_support(y_test_dt.label, y_pred_dt, average='macro')\n",
    "print(f'Accuracy: {dt_accuracy * 100:.2f} %')\n",
    "print(f'Precision: {dt_precision * 100:.2f} %')\n",
    "print(f'Recall: {dt_recall * 100:.2f} %')\n",
    "print(f'F-Score: {dt_f_score * 100:.2f} %')\n"
   ]
  },
  {
   "cell_type": "code",
   "execution_count": 131,
   "id": "5ed90784",
   "metadata": {},
   "outputs": [
    {
     "name": "stdout",
     "output_type": "stream",
     "text": [
      "Accuracy: 97.18 %\n",
      "Precision: 95.39 %\n",
      "Recall: 95.70 %\n",
      "F-Score: 95.54 %\n"
     ]
    }
   ],
   "source": [
    "X = dataset.iloc[:, 1:]\n",
    "y = dataset.iloc[:, 0:1]\n",
    "\n",
    "train_size = round(0.8 * len(X))\n",
    "\n",
    "X_train_dt = X.iloc[:train_size, :].values\n",
    "y_train_dt = y.iloc[:train_size]\n",
    "X_test_dt = X.iloc[train_size:, :].values\n",
    "y_test_dt = y.iloc[train_size:]\n",
    "\n",
    "# Scaling\n",
    "scaler_dt = StandardScaler()\n",
    "X_train_dt = scaler_dt.fit_transform(X_train_dt)\n",
    "X_test_dt = scaler_dt.transform(X_test_dt)\n",
    "\n",
    "# Step 1: Compute the mean of the data\n",
    "mean = np.mean(X_train_dt, axis=0)\n",
    "\n",
    "# Step 2: Compute the covariance matrix\n",
    "cov_matrix = np.cov(X_train_dt.T)\n",
    "\n",
    "# Step 3: Compute the eigenvectors and eigenvalues\n",
    "eig_values, eig_vectors = np.linalg.eig(cov_matrix)\n",
    "\n",
    "# Step 4: Choose the number of principal components\n",
    "n_components = 10\n",
    "\n",
    "# Step 5: Transform the data\n",
    "pca = PCA(n_components=n_components)\n",
    "X_train_pca = pca.fit_transform(X_train_dt)\n",
    "X_test_pca = pca.transform(X_test_dt)\n",
    "\n",
    "from sklearn.tree import DecisionTreeClassifier\n",
    "decision_tree_classifier = DecisionTreeClassifier()\n",
    "decision_tree_classifier.fit(X_train_pca, y_train_dt)\n",
    "y_pred_dt = decision_tree_classifier.predict(X_test_pca)\n",
    "dt_cm = np.zeros((7, 7))\n",
    "\n",
    "dt_accuracy = accuracy_score(y_test_dt.label, y_pred_dt)\n",
    "dt_precision, dt_recall, dt_f_score, dt_support = precision_recall_fscore_support(y_test_dt.label, y_pred_dt, average='macro')\n",
    "print(f'Accuracy: {dt_accuracy * 100:.2f} %')\n",
    "print(f'Precision: {dt_precision * 100:.2f} %')\n",
    "print(f'Recall: {dt_recall * 100:.2f} %')\n",
    "print(f'F-Score: {dt_f_score * 100:.2f} %')\n"
   ]
  },
  {
   "cell_type": "code",
   "execution_count": 132,
   "id": "f14032ff",
   "metadata": {},
   "outputs": [
    {
     "data": {
      "text/plain": [
       "array([[ 1.00000384,  0.87900431,  0.94096017, ...,  0.01112391,\n",
       "        -0.02257917,  0.01871004],\n",
       "       [ 0.87900431,  1.00000384,  0.94680209, ...,  0.00684693,\n",
       "        -0.02902611,  0.02554648],\n",
       "       [ 0.94096017,  0.94680209,  1.00000384, ...,  0.01028063,\n",
       "        -0.02470902,  0.02243886],\n",
       "       ...,\n",
       "       [ 0.01112391,  0.00684693,  0.01028063, ...,  1.00000384,\n",
       "         0.62566678, -0.47601753],\n",
       "       [-0.02257917, -0.02902611, -0.02470902, ...,  0.62566678,\n",
       "         1.00000384, -0.76626663],\n",
       "       [ 0.01871004,  0.02554648,  0.02243886, ..., -0.47601753,\n",
       "        -0.76626663,  1.00000384]])"
      ]
     },
     "execution_count": 132,
     "metadata": {},
     "output_type": "execute_result"
    }
   ],
   "source": [
    "cov_matrix"
   ]
  },
  {
   "cell_type": "code",
   "execution_count": 133,
   "id": "b17f6e2e",
   "metadata": {},
   "outputs": [
    {
     "name": "stdout",
     "output_type": "stream",
     "text": [
      "Eigenvalues of the first 10 principal components:\n",
      " [19.63174818 11.75921735  9.9009836   7.47751772  6.80663319  4.89688202\n",
      "  3.78286577  2.39115843  2.51291767  3.25959669]\n",
      "Proportion of variance explained by the first 10 principal components:\n",
      " [0.19246738 0.115286   0.09706809 0.07330872 0.06673144 0.04800846\n",
      " 0.03708678 0.03195671 0.02463639 0.02344264]\n"
     ]
    }
   ],
   "source": [
    "# Step 2: Compute the covariance matrix \n",
    "cov_matrix = np.cov(X_train_pca.T)\n",
    "\n",
    "# Step 3: Compute the eigenvectors and eigenvalues \n",
    "eigenvalues, eigenvectors = np.linalg.eig(cov_matrix)\n",
    "\n",
    "# Step 4: Choose the number of principal components \n",
    "num_components = 10\n",
    "\n",
    "# Step 5: Transform the data\n",
    "pca = PCA(n_components=num_components)\n",
    "X_train_pca = pca.fit_transform(X_train_dt)\n",
    "\n",
    "# Print Eigenvalues and Proportion of the first 10 Principal Components\n",
    "print(\"Eigenvalues of the first 10 principal components:\\n\", eigenvalues[:10])\n",
    "print(\"Proportion of variance explained by the first 10 principal components:\\n\", pca.explained_variance_ratio_[:10])\n"
   ]
  },
  {
   "cell_type": "code",
   "execution_count": 134,
   "id": "372dcbae",
   "metadata": {},
   "outputs": [
    {
     "data": {
      "image/png": "[encoded data removed]",
      "text/plain": [
       "<Figure size 640x480 with 1 Axes>"
      ]
     },
     "metadata": {},
     "output_type": "display_data"
    }
   ],
   "source": [
    "# Calculate the cumulative sum of eigenvalues\n",
    "cumulative_eigenvalues = np.cumsum(eigenvalues)\n",
    "\n",
    "# Normalize the cumulative sum of eigenvalues\n",
    "total_variance = np.sum(eigenvalues)\n",
    "cumulative_proportion = cumulative_eigenvalues / total_variance\n",
    "\n",
    "# Plot the elbow curve\n",
    "plt.plot(np.arange(1, len(eigenvalues)+1), eigenvalues, 'bo-', label='Eigenvalues')\n",
    "plt.plot(np.arange(1, len(eigenvalues)+1), cumulative_eigenvalues, 'ro-', label='Cumulative Eigenvalues')\n",
    "plt.xlabel('Principal Component')\n",
    "plt.ylabel('Eigenvalue')\n",
    "plt.legend()\n",
    "\n",
    "# Plot a vertical line indicating the elbow point\n",
    "elbow_index = np.argmin(np.abs(cumulative_proportion - 0.95))\n",
    "plt.axvline(x=elbow_index+1, color='g', linestyle='--')\n",
    "plt.annotate('Elbow Point', xy=(elbow_index+1, eigenvalues[elbow_index]), xytext=(elbow_index+2, eigenvalues[elbow_index]), arrowprops=dict(facecolor='green', shrink=0.05))\n",
    "\n",
    "plt.show()\n"
   ]
  },
  {
   "cell_type": "markdown",
   "id": "7d3eac25",
   "metadata": {},
   "source": [
    "The cumulative eigenvalues and the eigenvalues of each primary component will be shown on a graph by this code. Additionally, it will display a vertical line that represents the elbow point, or the point at which the explained variance is not significantly increased by the addition of additional principle components. Here, the cumulative proportion of variance explained is taken to be 95% at the elbow point."
   ]
  },
  {
   "cell_type": "markdown",
   "id": "7b87d2aa",
   "metadata": {},
   "source": [
    "------------------------------------------------------"
   ]
  },
  {
   "cell_type": "markdown",
   "id": "9f0f8370",
   "metadata": {},
   "source": [
    "Post PCA ACCURACY COMPARISON \n",
    "• Using Full Training Set\n",
    "• Using 10-fold Cross-Validation"
   ]
  },
  {
   "cell_type": "code",
   "execution_count": 135,
   "id": "4572b573",
   "metadata": {},
   "outputs": [
    {
     "name": "stdout",
     "output_type": "stream",
     "text": [
      "Accuracy (post-PCA): 97.11%\n",
      "Accuracy (post-PCA, full training set): 99.99%\n",
      "Accuracy (post-PCA, 10-fold cross-validation): 97.04%\n"
     ]
    }
   ],
   "source": [
    "from sklearn.decomposition import PCA\n",
    "from sklearn.model_selection import cross_val_score\n",
    "from sklearn.tree import DecisionTreeClassifier\n",
    "from sklearn.metrics import accuracy_score\n",
    "\n",
    "# Apply PCA on the training data and select the desired number of components\n",
    "pca = PCA(n_components=10)\n",
    "X_train_pca = pca.fit_transform(X_train)\n",
    "X_test_pca = pca.transform(X_test)\n",
    "\n",
    "# Train a classification model on the transformed training data\n",
    "decision_tree_classifier_pca = DecisionTreeClassifier()\n",
    "decision_tree_classifier_pca.fit(X_train_pca, y_train)\n",
    "\n",
    "# Evaluate the accuracy on the transformed testing data\n",
    "y_pred_pca = decision_tree_classifier_pca.predict(X_test_pca)\n",
    "accuracy_pca = accuracy_score(y_test, y_pred_pca)\n",
    "print(f'Accuracy (post-PCA): {accuracy_pca * 100:.2f}%')\n",
    "\n",
    "# Calculate the accuracy using the full training set\n",
    "decision_tree_classifier_pca_full = DecisionTreeClassifier()\n",
    "decision_tree_classifier_pca_full.fit(X_train_pca, y_train)\n",
    "y_pred_pca_full = decision_tree_classifier_pca_full.predict(X_train_pca)\n",
    "accuracy_pca_full = accuracy_score(y_train, y_pred_pca_full)\n",
    "print(f'Accuracy (post-PCA, full training set): {accuracy_pca_full * 100:.2f}%')\n",
    "\n",
    "# Calculate the accuracy using 10-fold cross-validation\n",
    "decision_tree_classifier_pca_cv = DecisionTreeClassifier()\n",
    "accuracy_pca_cv = cross_val_score(decision_tree_classifier_pca_cv, X_train_pca, y_train, cv=10)\n",
    "print(f'Accuracy (post-PCA, 10-fold cross-validation): {accuracy_pca_cv.mean() * 100:.2f}%')\n"
   ]
  },
  {
   "cell_type": "code",
   "execution_count": 149,
   "id": "505c31fe",
   "metadata": {},
   "outputs": [
    {
     "data": {
      "text/plain": [
       "0.971764850307671"
      ]
     },
     "execution_count": 149,
     "metadata": {},
     "output_type": "execute_result"
    }
   ],
   "source": [
    "dt_accuracy"
   ]
  },
  {
   "cell_type": "code",
   "execution_count": 152,
   "id": "7bd19ff2",
   "metadata": {},
   "outputs": [
    {
     "data": {
      "text/plain": [
       "0.971074316755413"
      ]
     },
     "execution_count": 152,
     "metadata": {},
     "output_type": "execute_result"
    }
   ],
   "source": [
    "accuracy_pca"
   ]
  },
  {
   "cell_type": "code",
   "execution_count": 155,
   "id": "229f2a56",
   "metadata": {},
   "outputs": [
    {
     "data": {
      "image/png": "[encoded data removed]",
      "text/plain": [
       "<Figure size 640x480 with 1 Axes>"
      ]
     },
     "metadata": {},
     "output_type": "display_data"
    }
   ],
   "source": [
    "import matplotlib.pyplot as plt\n",
    "\n",
    "# Convert accuracy scores to percentages\n",
    "dt_accuracy_percent = dt_accuracy * 100\n",
    "accuracy_pca_percent = accuracy_pca * 100\n",
    "\n",
    "# Create bar plot\n",
    "fig, ax = plt.subplots()\n",
    "ax.bar(['Pre-PCA', 'Post-PCA'], [dt_accuracy_percent, accuracy_pca_percent], color=['red', 'blue'])\n",
    "ax.set_xlabel('Model')\n",
    "ax.set_ylabel('Accuracy (%)')\n",
    "ax.set_title('Accuracy Comparison: Pre-PCA vs Post-PCA Decision Tree')\n",
    "\n",
    "# Add labels for each bar\n",
    "for i, v in enumerate([dt_accuracy_percent, accuracy_pca_percent]):\n",
    "    ax.text(i, v + 1, f'{v:.2f} %', ha='center')\n",
    "\n",
    "plt.show()\n"
   ]
  },
  {
   "cell_type": "markdown",
   "id": "6f76f0ba",
   "metadata": {},
   "source": [
    "<BOURNEMOUTH UNIVERSITY>\n",
    "    <h1>MADE BY<h1>\n",
    "•Dhiraj Jadhav: s5328394 \n",
    "•\tHarsh Kumbhkale\n",
    "•\tParvathi Rajeev \n",
    "•\tAdeola\n"
   ]
  },
  {
   "cell_type": "code",
   "execution_count": null,
   "id": "a2923f99",
   "metadata": {},
   "outputs": [],
   "source": []
  }
 ],
 "metadata": {
  "kernelspec": {
   "display_name": "Python 3 (ipykernel)",
   "language": "python",
   "name": "python3"
  },
  "language_info": {
   "codemirror_mode": {
    "name": "ipython",
    "version": 3
   },
   "file_extension": ".py",
   "mimetype": "text/x-python",
   "name": "python",
   "nbconvert_exporter": "python",
   "pygments_lexer": "ipython3",
   "version": "3.9.13"
  }
 },
 "nbformat": 4,
 "nbformat_minor": 5
}
